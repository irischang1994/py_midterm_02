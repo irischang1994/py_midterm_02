{
 "cells": [
  {
   "cell_type": "code",
   "execution_count": 1,
   "metadata": {
    "collapsed": false
   },
   "outputs": [
    {
     "data": {
      "text/plain": [
       "1.4142135623730951"
      ]
     },
     "execution_count": 1,
     "metadata": {},
     "output_type": "execute_result"
    }
   ],
   "source": [
    "import math\n",
    "\n",
    "def  my_sd_function(numbers):  \n",
    "    '給我一串數列，還你一個標準差'\n",
    "    N = len(numbers)\n",
    "    summation = 0\n",
    "    \n",
    "    for i in numbers:\n",
    "        summation = summation + i\n",
    "    mu = summation / N\n",
    "    \n",
    "    summation_discrete = 0\n",
    "    for number in numbers:\n",
    "        summation_discrete = summation_discrete + (number - mu) ** 2\n",
    "    \n",
    "    return math.sqrt(summation_discrete / N) \n",
    "\n",
    "    \n",
    "#好緊張，可是為啥結果是錯的，好傷心\n",
    "my_list = range(1, 6)\n",
    "my_sd_function(my_list)    \n",
    "    "
   ]
  },
  {
   "cell_type": "code",
   "execution_count": null,
   "metadata": {
    "collapsed": true
   },
   "outputs": [],
   "source": []
  }
 ],
 "metadata": {
  "kernelspec": {
   "display_name": "Python 3",
   "language": "python",
   "name": "python3"
  },
  "language_info": {
   "codemirror_mode": {
    "name": "ipython",
    "version": 3
   },
   "file_extension": ".py",
   "mimetype": "text/x-python",
   "name": "python",
   "nbconvert_exporter": "python",
   "pygments_lexer": "ipython3",
   "version": "3.5.2"
  }
 },
 "nbformat": 4,
 "nbformat_minor": 1
}
